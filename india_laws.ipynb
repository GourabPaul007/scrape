{
 "cells": [
  {
   "cell_type": "code",
   "execution_count": 1,
   "metadata": {},
   "outputs": [
    {
     "name": "stdout",
     "output_type": "stream",
     "text": [
      "['https://indiankanoon.org/browse/union-act/', 'https://indiankanoon.org/browse/constitution-amendments/', 'https://indiankanoon.org/browse/un-convention/', 'https://indiankanoon.org/browse/treaty-act/', 'https://indiankanoon.org/browse/andhra-act/', 'https://indiankanoon.org/browse/arunachal-act/', 'https://indiankanoon.org/browse/assam-act/', 'https://indiankanoon.org/browse/bihar-act/', 'https://indiankanoon.org/browse/chandigarh-act/', 'https://indiankanoon.org/browse/chattisgarh-act/', 'https://indiankanoon.org/browse/delhi-act/', 'https://indiankanoon.org/browse/goa-act/', 'https://indiankanoon.org/browse/gujarat-act/', 'https://indiankanoon.org/browse/haryana-act/', 'https://indiankanoon.org/browse/himachal-act/', 'https://indiankanoon.org/browse/jk-act/', 'https://indiankanoon.org/browse/jharkhand-act/', 'https://indiankanoon.org/browse/karnataka-act/', 'https://indiankanoon.org/browse/kerala-act/', 'https://indiankanoon.org/browse/madhyabharat-act/', 'https://indiankanoon.org/browse/mp-act/', 'https://indiankanoon.org/browse/mh-act/', 'https://indiankanoon.org/browse/manipur-act/', 'https://indiankanoon.org/browse/meghalaya-act/', 'https://indiankanoon.org/browse/mizoram-act/', 'https://indiankanoon.org/browse/nagaland-act/', 'https://indiankanoon.org/browse/odisha-act/', 'https://indiankanoon.org/browse/puducherry-act/', 'https://indiankanoon.org/browse/punjab-act/', 'https://indiankanoon.org/browse/rajasthan-act/', 'https://indiankanoon.org/browse/sikkim-act/', 'https://indiankanoon.org/browse/tn-act/', 'https://indiankanoon.org/browse/telengana-act/', 'https://indiankanoon.org/browse/tripura-act/', 'https://indiankanoon.org/browse/uttarakhand-act/', 'https://indiankanoon.org/browse/up-act/', 'https://indiankanoon.org/browse/wb-act/', 'https://indiankanoon.org/browse/lakshadweep-act/', 'https://indiankanoon.org/browse/andaman-act/', 'https://indiankanoon.org/browse/bengaluru-act/', 'https://indiankanoon.org/browse/ladakh-act/', 'https://indiankanoon.org/browse/daman-act/', 'https://indiankanoon.org/browse/dadra-act/', 'https://indiankanoon.org/browse/british-act/', 'https://indiankanoon.org/browse/bhopal-act/', 'https://indiankanoon.org/browse/bombay-act/', 'https://indiankanoon.org/browse/madras-act/', 'https://indiankanoon.org/browse/centralprovinces-act/', 'https://indiankanoon.org/browse/bengalpresidency-act/', 'https://indiankanoon.org/browse/chotanagpur-act/', 'https://indiankanoon.org/browse/mysore-act/', 'https://indiankanoon.org/browse/nagpurprovince-act/', 'https://indiankanoon.org/browse/britishpunjab-act/', 'https://indiankanoon.org/browse/utdprovinces-act/', 'https://indiankanoon.org/browse/vindhya-act/']\n",
      "['https://indiankanoon.org/browse/union-act/', 'https://indiankanoon.org/browse/constitution-amendments/', 'https://indiankanoon.org/browse/un-convention/', 'https://indiankanoon.org/browse/treaty-act/']\n"
     ]
    }
   ],
   "source": [
    "import requests\n",
    "from bs4 import BeautifulSoup\n",
    "import json\n",
    "\n",
    "lawsUrl = \"https://indiankanoon.org/browselaws/\"\n",
    "response_lawsUrl = requests.get(lawsUrl)\n",
    "\n",
    "soup_browse_laws = BeautifulSoup(response_lawsUrl.content, 'html.parser')\n",
    "browse_laws_urls = []\n",
    "browse_laws_hrefs = soup_browse_laws.select('div[class=\"info_indian_kanoon\"] td a')\n",
    "for each_laws_href in browse_laws_hrefs:\n",
    "    browse_laws_urls.append(\"https://indiankanoon.org\"+each_laws_href['href'])\n",
    "print(browse_laws_urls)\n",
    "\n",
    "india_laws = browse_laws_urls[0:4]\n",
    "state_laws = browse_laws_urls[4:43]\n",
    "british_laws = browse_laws_urls[43:]\n",
    "print(india_laws)"
   ]
  },
  {
   "cell_type": "code",
   "execution_count": null,
   "metadata": {},
   "outputs": [],
   "source": [
    "from pathlib import Path\n",
    "import re\n",
    "\n",
    "for each_law in india_laws:\n",
    "    # print(each_law)\n",
    "    response_each_law = requests.get(each_law)\n",
    "    soup_each_law = BeautifulSoup(response_each_law.content, 'html.parser')\n",
    "    law_urls = soup_each_law.select('div[class=\"info_indian_kanoon\"] td a')\n",
    "    for each_law_url in law_urls:\n",
    "        folder = each_law_url['href'].split('/')[2]\n",
    "        file_path = \"./india_laws/\"+folder+\"/\"\n",
    "        url = \"https://indiankanoon.org\"+each_law_url['href']\n",
    "        print(url)\n",
    "        print(file_path)\n",
    "        response_all_year = requests.get(url)\n",
    "\n",
    "\n",
    "        soup = BeautifulSoup(response_all_year.content, 'html.parser')\n",
    "        # Get the \"entire year\" link\n",
    "        entire_year_link = soup.select('div[class=\"info_indian_kanoon\"] tr:nth-of-type(1) td a')[0]\n",
    "        response_all_year_first_page = requests.get('https://indiankanoon.org' + entire_year_link[\"href\"])\n",
    "\n",
    "        result_links = set()\n",
    "        soup_all_year_first_page = BeautifulSoup(response_all_year_first_page.content, 'html.parser')\n",
    "        all_year_links_first_page = soup_all_year_first_page.select('div[class=\"result\"] > div[class=\"result_title\"] > a')\n",
    "        for each_link_in_first_page in all_year_links_first_page:\n",
    "            result_links.add(f\"https://indiankanoon.org{each_link_in_first_page[\"href\"]}\")\n",
    "\n",
    "        # getting the other pages if pagination exists\n",
    "        all_year_links_other_pages = soup_all_year_first_page.select('div[class=\"bottom\"] > span[class=\"pagenum\"] > a')\n",
    "        for link in all_year_links_other_pages:\n",
    "            each_page_url = \"https://indiankanoon.org\"+link['href']\n",
    "            print(each_page_url)\n",
    "            response_all_year_other_page = requests.get(each_page_url)\n",
    "            soup_all_year_other_page = BeautifulSoup(response_all_year_other_page.content, 'html.parser')\n",
    "            all_year_links_other_page = soup_all_year_other_page.select('div[class=\"result\"] > div[class=\"result_title\"] > a')\n",
    "            for each_link_in_other_page in all_year_links_other_page:\n",
    "                result_links.add(f\"https://indiankanoon.org{each_link_in_other_page[\"href\"]}\")\n",
    "        print(result_links)\n",
    "\n",
    "\n",
    "        for i in result_links:\n",
    "            response = requests.get(i)\n",
    "            soup = BeautifulSoup(response.content, 'html.parser')\n",
    "            hidden_tags = soup.find_all(\"input\", type=\"hidden\", value=\"pdf\")\n",
    "            a = hidden_tags[0].parent\n",
    "            ac = a.get(\"action\")\n",
    "            pdfResponse = requests.post(\"https://indiankanoon.org\" + ac, headers={}, data = {'type': 'pdf'})\n",
    "\n",
    "            d = pdfResponse.headers['content-disposition']\n",
    "            fname = re.findall(\"filename=(.+)\", d)[0].replace('\"','')\n",
    "            print(fname)\n",
    "            filename = Path(f'./pdfs/{fname}')\n",
    "            filename.write_bytes(pdfResponse.content)"
   ]
  }
 ],
 "metadata": {
  "kernelspec": {
   "display_name": "Python 3",
   "language": "python",
   "name": "python3"
  },
  "language_info": {
   "codemirror_mode": {
    "name": "ipython",
    "version": 3
   },
   "file_extension": ".py",
   "mimetype": "text/x-python",
   "name": "python",
   "nbconvert_exporter": "python",
   "pygments_lexer": "ipython3",
   "version": "3.12.2"
  }
 },
 "nbformat": 4,
 "nbformat_minor": 2
}
